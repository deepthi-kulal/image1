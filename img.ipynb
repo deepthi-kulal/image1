{
 "cells": [
  {
   "cell_type": "code",
   "execution_count": 7,
   "metadata": {},
   "outputs": [],
   "source": [
    "from PIL import Image\n",
    "from PIL import ImageFilter\n",
    "img=Image.open(\"cat1.jpg\");\n",
    "img.show();\n",
    "for i in range(0,img.size[0]-1):\n",
    "    for j in range(0,img.size[1]-1):\n",
    "        pixelColorVals=img.getpixel((i,j));\n",
    "        redPixel=255-pixelColorVals[0]; \n",
    "        greenPixel=255-pixelColorVals[0]; \n",
    "        bluePixel=255-pixelColorVals[0]; \n",
    "        img.putpixel((i,j),(redPixel,greenPixel,bluePixel));\n",
    "img.show();"
   ]
  },
  {
   "cell_type": "code",
   "execution_count": null,
   "metadata": {},
   "outputs": [],
   "source": []
  },
  {
   "cell_type": "code",
   "execution_count": null,
   "metadata": {},
   "outputs": [],
   "source": []
  }
 ],
 "metadata": {
  "kernelspec": {
   "display_name": "Python 3",
   "language": "python",
   "name": "python3"
  },
  "language_info": {
   "codemirror_mode": {
    "name": "ipython",
    "version": 3
   },
   "file_extension": ".py",
   "mimetype": "text/x-python",
   "name": "python",
   "nbconvert_exporter": "python",
   "pygments_lexer": "ipython3",
   "version": "3.8.5"
  }
 },
 "nbformat": 4,
 "nbformat_minor": 4
}
